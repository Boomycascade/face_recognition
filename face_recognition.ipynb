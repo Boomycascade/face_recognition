{
  "nbformat": 4,
  "nbformat_minor": 0,
  "metadata": {
    "colab": {
      "provenance": [],
      "gpuType": "T4",
      "authorship_tag": "ABX9TyPDZAYgRGES4UcPTE8l0fai",
      "include_colab_link": true
    },
    "kernelspec": {
      "name": "python3",
      "display_name": "Python 3"
    },
    "language_info": {
      "name": "python"
    },
    "accelerator": "GPU"
  },
  "cells": [
    {
      "cell_type": "markdown",
      "metadata": {
        "id": "view-in-github",
        "colab_type": "text"
      },
      "source": [
        "<a href=\"https://colab.research.google.com/github/Boomycascade/face_recognition/blob/main/face_recognition.ipynb\" target=\"_parent\"><img src=\"https://colab.research.google.com/assets/colab-badge.svg\" alt=\"Open In Colab\"/></a>"
      ]
    },
    {
      "cell_type": "code",
      "execution_count": 18,
      "metadata": {
        "colab": {
          "base_uri": "https://localhost:8080/"
        },
        "id": "f_hDUKF6jejB",
        "outputId": "2c6ec719-982c-43a0-c4f2-3d9b9f469223"
      },
      "outputs": [
        {
          "output_type": "stream",
          "name": "stdout",
          "text": [
            "Drive already mounted at /content/drive; to attempt to forcibly remount, call drive.mount(\"/content/drive\", force_remount=True).\n",
            "The person in Adam_Sandler_0004.jpg is Adam Sandler.\n",
            "The person in Ben_Affleck_0007.jpg is Ben Affleck.\n",
            "The person in Aaron_Peirsol_0003.jpg is Aaron Peirsol.\n",
            "The person in who me.jpeg is Adam Sandler.\n"
          ]
        }
      ],
      "source": [
        "from google.colab import drive\n",
        "import face_recognition\n",
        "import cv2\n",
        "import numpy as np\n",
        "import os\n",
        "from google.colab.patches import cv2_imshow\n",
        "\n",
        "drive.mount('/content/drive')\n",
        "\n",
        "known_faces_dir = '/content/drive/MyDrive/known_faces'\n",
        "unknown_faces_dir = '/content/drive/MyDrive/unknown_faces'\n",
        "\n",
        "known_faces = []\n",
        "known_names = []\n",
        "\n",
        "for filename in os.listdir(known_faces_dir):\n",
        "    image = face_recognition.load_image_file(f'{known_faces_dir}/{filename}')\n",
        "    encoding = face_recognition.face_encodings(image)[0]\n",
        "    known_faces.append(encoding)\n",
        "    known_names.append(filename[:-4])\n",
        "\n",
        "for filename in os.listdir(unknown_faces_dir):\n",
        "    unknown_image = face_recognition.load_image_file(f'{unknown_faces_dir}/{filename}')\n",
        "    unknown_encoding = face_recognition.face_encodings(unknown_image)[0]\n",
        "\n",
        "    for (face, name) in zip(known_faces, known_names):\n",
        "        results = face_recognition.compare_faces([face], unknown_encoding)\n",
        "        if results[0]:\n",
        "            print(f'The person in {filename} is {name}.')\n"
      ]
    }
  ]
}